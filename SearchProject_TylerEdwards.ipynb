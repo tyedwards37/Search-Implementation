{
 "cells": [
  {
   "cell_type": "markdown",
   "metadata": {
    "id": "2E1XYmT4RfYn"
   },
   "source": [
    "## CPSC 390 (Artificial Intelligence): Project 1 - Search\n",
    "## by `Tyler Edwards`\n",
    "## Search using `Uniform Cost Search`\n",
    "\n",
    "\n"
   ]
  },
  {
   "cell_type": "code",
   "execution_count": 1,
   "metadata": {
    "id": "SHNlcRkORYPA"
   },
   "outputs": [],
   "source": [
    "# Code cell 1: define your common search functions here\n",
    "\n",
    "from queue import PriorityQueue\n",
    "\n",
    "# Define the Node class that will be implmented for the search\n",
    "class Node:\n",
    "    # Intialize the Node\n",
    "    def __init__(self, state, parent = None, action = None, pathCost = 0):\n",
    "        self.state = state\n",
    "        self.parent = parent \n",
    "        self.action = action\n",
    "        self.pathCost = pathCost\n",
    "    \n",
    "    # Expand the current Node\n",
    "    def expand(self, graph):\n",
    "        return [self.childNode(action, graph) for action in graph[self.state]]\n",
    "    \n",
    "    # Create a return a Child Node based off the information of the current Node\n",
    "    def childNode(self, action, graph):\n",
    "        nextState = action\n",
    "        return Node(nextState, self, action, self.pathCost + graph[self.state][action])\n",
    "    \n",
    "    # Returns the total path cost to the final Node which is the Solution Path Cost\n",
    "    def solution(self):\n",
    "        return self.path()\n",
    "    \n",
    "    # Creates the path from the curreent Node back to the starting Node\n",
    "    def path(self):\n",
    "        node, pathBack = self, []\n",
    "        while node:\n",
    "            pathBack.append(node.state)\n",
    "            node = node.parent\n",
    "        return list(reversed(pathBack))\n",
    "    \n",
    "# Define the Uniform Cost Search Algorithm\n",
    "def uniformCostSearch(start, goal, graph):\n",
    "    frontier = PriorityQueue()\n",
    "    startNode = Node(start)\n",
    "    frontier.put((0, id(startNode), startNode))\n",
    "    explored = set()\n",
    "    pathCosts = {start: 0}\n",
    "\n",
    "    \n",
    "    while frontier:\n",
    "        _, _, node = frontier.get()\n",
    "        \n",
    "        # Specifies the Node that is being expanded\n",
    "        print(\"Expanded: \", node.state)\n",
    "\n",
    "        # Checks if the current Node is the given goal Node\n",
    "        if(node.state == goal):\n",
    "            solutionPath = node.solution()\n",
    "            totalCost = node.pathCost\n",
    "            return solutionPath, totalCost \n",
    "        \n",
    "        # Defines the Frontier after every check for the goal Node\n",
    "        explored.add(node.state)\n",
    "        for child in node.expand(graph):\n",
    "            # Checks if the Node has alreayd been explored, then if it hasn't checks to see if there's already a path with a lower cost\n",
    "            if child.state not in explored and (child.state not in pathCosts or child.pathCost < pathCosts[child.state]):\n",
    "                frontier.put((child.pathCost, id(child), child))\n",
    "                pathCosts[child.state] = child.pathCost\n",
    "        print(\"Frontier:\", [n.state for _, _, n in list(frontier.queue)])\n",
    "\n",
    "    # Catch for the case where there is no goal Node\n",
    "    return None, None"
   ]
  },
  {
   "cell_type": "markdown",
   "metadata": {
    "id": "ua9tbz2WSiDg"
   },
   "source": [
    "Using `Uniform Cost Search` on the simple tree graph (Figure 1)"
   ]
  },
  {
   "cell_type": "code",
   "execution_count": 2,
   "metadata": {
    "id": "SKtrMdz2Sxhh"
   },
   "outputs": [
    {
     "name": "stdout",
     "output_type": "stream",
     "text": [
      "Expanded:  S\n",
      "Frontier: ['B', 'A', 'C']\n",
      "Expanded:  B\n",
      "Frontier: ['A', 'C', 'G']\n",
      "Expanded:  A\n",
      "Frontier: ['D', 'E', 'C', 'G', 'G']\n",
      "Expanded:  D\n",
      "Frontier: ['C', 'E', 'G', 'G']\n",
      "Expanded:  C\n",
      "Frontier: ['E', 'G', 'G', 'G']\n",
      "Expanded:  E\n",
      "Frontier: ['G', 'G', 'G']\n",
      "Expanded:  G\n",
      "Solution Path:  ['S', 'C', 'G']\n",
      "Total Path Cost:  13\n"
     ]
    }
   ],
   "source": [
    "# Code cell 2: Define the graph data of Figure 1 and call the search funciton you implemented in Cell 1\n",
    "\n",
    "figure1_graph = {\n",
    "    \"S\": {\"A\": 3, \"B\": 1, \"C\": 8},\n",
    "    \"A\": {\"D\": 3, \"E\": 7, \"G\": 15},\n",
    "    \"B\": {\"G\": 20},\n",
    "    \"C\": {\"G\": 5},\n",
    "    \"D\": {},\n",
    "    \"E\": {},\n",
    "    \"G\": {}\n",
    "}\n",
    "\n",
    "# Define the start and goal states\n",
    "start = \"S\"\n",
    "goal = \"G\"\n",
    "solution, totalCost = uniformCostSearch(start, goal, figure1_graph)\n",
    "\n",
    "print(\"\\n\")\n",
    "print(\"Solution Path: \", solution)\n",
    "print(\"Total Path Cost: \", totalCost)"
   ]
  },
  {
   "cell_type": "markdown",
   "metadata": {
    "id": "vJdCmCS9S_eW"
   },
   "source": [
    "Using `Uniform Cost Search` on the Romania Roadmap"
   ]
  },
  {
   "cell_type": "code",
   "execution_count": 16,
   "metadata": {
    "id": "QB7SJ8WsTYh-",
    "scrolled": true
   },
   "outputs": [
    {
     "name": "stdout",
     "output_type": "stream",
     "text": [
      "Expanded:  Arad\n",
      "Frontier: ['Zerind', 'Sibiu', 'Timisoara']\n",
      "Expanded:  Zerind\n",
      "Frontier: ['Timisoara', 'Sibiu', 'Oradea']\n",
      "Expanded:  Timisoara\n",
      "Frontier: ['Sibiu', 'Oradea', 'Lugoj']\n",
      "Expanded:  Sibiu\n",
      "Frontier: ['Oradea', 'Rimnicu', 'Fagaras', 'Lugoj']\n",
      "Expanded:  Oradea\n",
      "Frontier: ['Rimnicu', 'Lugoj', 'Fagaras']\n",
      "Expanded:  Rimnicu\n",
      "Frontier: ['Lugoj', 'Fagaras', 'Craiova', 'Pitesti']\n",
      "Expanded:  Lugoj\n",
      "Frontier: ['Fagaras', 'Mehadia', 'Craiova', 'Pitesti']\n",
      "Expanded:  Fagaras\n",
      "Frontier: ['Mehadia', 'Pitesti', 'Craiova', 'Bucharest']\n",
      "Expanded:  Mehadia\n",
      "Frontier: ['Pitesti', 'Drobeta', 'Craiova', 'Bucharest']\n",
      "Expanded:  Pitesti\n",
      "Frontier: ['Craiova', 'Drobeta', 'Bucharest', 'Bucharest']\n",
      "Expanded:  Craiova\n",
      "Frontier: ['Drobeta', 'Bucharest', 'Bucharest']\n",
      "Expanded:  Drobeta\n",
      "Frontier: ['Bucharest', 'Bucharest']\n",
      "Expanded:  Bucharest\n",
      "Solution Path:  ['Arad', 'Sibiu', 'Rimnicu', 'Pitesti', 'Bucharest']\n",
      "Total Path Cost:  418\n"
     ]
    }
   ],
   "source": [
    "# Code cell 3: Define the graph data of Romania Roadmap and call the search funciton you implemented in Cell 1\n",
    "\n",
    "roadmap = {\n",
    "    \"Arad\": {\"Zerind\": 75, \"Sibiu\": 140, \"Timisoara\": 118},\n",
    "    \"Bucharest\": {\"Urziceni\": 85, \"Pitesti\": 101, \"Giurgiu\": 90, \"Fagaras\": 211},\n",
    "    \"Craiova\": {\"Drobeta\": 120, \"Rimnicu\": 146, \"Pitesti\": 138},\n",
    "    \"Drobeta\": {\"Craiova\": 120, \"Mehadia\": 75},\n",
    "    \"Eforie\": {\"Hirsova\": 86},\n",
    "    \"Fagaras\": {\"Bucharest\": 211, \"Sibiu\": 99},\n",
    "    \"Giurgiu\": {\"Bucharest\": 90},\n",
    "    \"Hirsova\": {\"Eforie\": 86, \"Urziceni\": 98},\n",
    "    \"Iasi\": {\"Vaslui\": 92, \"Neamt\": 87},\n",
    "    \"Lugoj\": {\"Timisoara\": 111, \"Mehadia\": 70},\n",
    "    \"Mehadia\": {\"Lugoj\": 70, \"Drobeta\": 75},\n",
    "    \"Neamt\": {\"Iasi\": 87},\n",
    "    \"Oradea\": {\"Zerind\": 71, \"Sibiu\": 151},\n",
    "    \"Pitesti\": {\"Bucharest\": 101, \"Rimnicu\": 97, \"Craiova\": 138},\n",
    "    \"Rimnicu\": {\"Craiova\": 146, \"Sibiu\": 80, \"Pitesti\": 97},\n",
    "    \"Sibiu\": {\"Arad\": 140, \"Fagaras\": 99, \"Oradea\": 151, \"Rimnicu\": 80},\n",
    "    \"Timisoara\": {\"Arad\":118, \"Lugoj\": 111},\n",
    "    \"Vaslui\": {\"Iasi\": 92, \"Urziceni\": 98},\n",
    "    \"Urziceni\": {\"Vaslui\": 142, \"Bucharest\": 85, \"Hirsova\": 98},\n",
    "    \"Zerind\": {\"Arad\": 75, \"Oradea\": 71}\n",
    "}\n",
    "\n",
    "# Define the start and goal states\n",
    "start = \"Arad\"\n",
    "goal = \"Bucharest\"\n",
    "solution, totalCost = uniformCostSearch(start, goal, roadmap)\n",
    "\n",
    "print(\"\\n\")\n",
    "print(\"Solution Path: \", solution)\n",
    "print(\"Total Path Cost: \", totalCost)"
   ]
  },
  {
   "cell_type": "markdown",
   "metadata": {
    "id": "Rk2OrMIcTxP0"
   },
   "source": [
    "Optional: my implementation of A* Search on the Romania roadmap"
   ]
  },
  {
   "cell_type": "code",
   "execution_count": 36,
   "metadata": {
    "id": "dD4635HHTOIv"
   },
   "outputs": [
    {
     "name": "stdout",
     "output_type": "stream",
     "text": [
      "Expanded:  Arad | Heuristic: 0\n",
      "Frontier: [('Zerind', 374), ('Sibiu', 253), ('Timisoara', 329)]\n",
      "Expanded:  Zerind | Heuristic: 374\n",
      "Frontier: [('Sibiu', 253), ('Timisoara', 329), ('Oradea', 380)]\n",
      "Expanded:  Sibiu | Heuristic: 253\n",
      "Frontier: [('Rimnicu', 193), ('Fagaras', 176), ('Timisoara', 329), ('Oradea', 380)]\n",
      "Expanded:  Rimnicu | Heuristic: 193\n",
      "Frontier: [('Craiova', 160), ('Fagaras', 176), ('Timisoara', 329), ('Oradea', 380), ('Pitesti', 100)]\n",
      "Expanded:  Craiova | Heuristic: 160\n",
      "Frontier: [('Fagaras', 176), ('Pitesti', 100), ('Timisoara', 329), ('Oradea', 380), ('Drobeta', 242)]\n",
      "Expanded:  Fagaras | Heuristic: 176\n",
      "Frontier: [('Pitesti', 100), ('Drobeta', 242), ('Timisoara', 329), ('Oradea', 380), ('Bucharest', 0)]\n",
      "Expanded:  Pitesti | Heuristic: 100\n",
      "Frontier: [('Bucharest', 0), ('Drobeta', 242), ('Timisoara', 329), ('Oradea', 380), ('Bucharest', 0)]\n",
      "Expanded:  Bucharest | Heuristic: 0\n",
      "\n",
      "\n",
      "Solution Path:  ['Arad', 'Sibiu', 'Rimnicu', 'Pitesti', 'Bucharest']\n",
      "Total Path Cost:  418\n"
     ]
    }
   ],
   "source": [
    "# Code cell 4: additional setup for A* search and call the A* search function\n",
    "\n",
    "# Redefine childNode function so it accomodates for the tuple and that there is an addded priority attribute\n",
    "class AStarNode(Node):\n",
    "    def __init__(self, state, parent = None, action = None, path_cost = 0, heuristic = 0):\n",
    "        super().__init__(state, parent, action, path_cost)\n",
    "        self.heuristic = heuristic\n",
    "        self.priority = 0\n",
    "        \n",
    "    def childNode(self, action, graph):\n",
    "        nextState = action\n",
    "        pathCost, heuristicValue = graph[self.state][action]\n",
    "        return AStarNode(nextState, self, action, self.pathCost + pathCost, heuristicValue)\n",
    "\n",
    "# Define the A* Search Algorithm\n",
    "def aStarSearch(start, goal, graph):\n",
    "    frontier = PriorityQueue()\n",
    "    startNode = AStarNode(start)\n",
    "    startNode.priority = startNode.heuristic\n",
    "    frontier.put((startNode.priority, id(startNode), startNode))\n",
    "    explored = set()\n",
    "    pathCosts = {start: 0}\n",
    "    \n",
    "    while frontier:\n",
    "        _, _, node = frontier.get()\n",
    "        \n",
    "        # Specifies the Node that is being expanded\n",
    "        print(\"Expanded: \", node.state, \"| Heuristic:\", node.heuristic)\n",
    "\n",
    "        # Checks if the current Node is the given goal Node\n",
    "        if(node.state == goal):\n",
    "            solutionPath = node.solution()\n",
    "            totalCost = node.pathCost\n",
    "            return solutionPath, totalCost \n",
    "        \n",
    "        # Defines the Frontier after every check for the goal Node\n",
    "        explored.add(node.state)\n",
    "        for child in node.expand(graph):\n",
    "            edgeCost, _ = graph[node.state][child.state]\n",
    "            newCost = node.pathCost + edgeCost\n",
    "            \n",
    "            # Checks if the Node has alreayd been explored, then if it hasn't checks to see if there's already a path with a lower cost\n",
    "            if child.state not in explored and (child.state not in pathCosts or child.pathCost < pathCosts[child.state]):\n",
    "                pathCosts[child.state] = newCost\n",
    "                \n",
    "                # Creates priority based of both heuristic h(n) and least cost g(n)\n",
    "                priority = newCost + child.heuristic\n",
    "                frontier.put((child.priority, id(child), child))\n",
    "        print(\"Frontier:\", [(n.state, n.heuristic) for _, _, n in list(frontier.queue)])\n",
    "\n",
    "    # Catch for the case where there is no goal Node\n",
    "    return None, None\n",
    "\n",
    "roadmap = {\n",
    "    \"Arad\": {\"Zerind\": (75, 374), \"Sibiu\": (140, 253), \"Timisoara\": (118, 329)},\n",
    "    \"Bucharest\": {\"Urziceni\": (85, 80), \"Pitesti\": (101, 100), \"Giurgiu\": (90, 77), \"Fagaras\": (211, 176)},\n",
    "    \"Craiova\": {\"Drobeta\": (120, 242), \"Rimnicu\": (146, 193), \"Pitesti\": (138, 100)},\n",
    "    \"Drobeta\": {\"Craiova\": (120, 160), \"Mehadia\": (75, 241)},\n",
    "    \"Eforie\": {\"Hirsova\": (86, 151)},\n",
    "    \"Fagaras\": {\"Bucharest\": (211, 0), \"Sibiu\": (99, 253)},\n",
    "    \"Giurgiu\": {\"Bucharest\": (90, 0)},\n",
    "    \"Hirsova\": {\"Eforie\": (86, 161), \"Urziceni\": (98, 80)},\n",
    "    \"Iasi\": {\"Vaslui\": (92, 199), \"Neamt\": (87, 234)},\n",
    "    \"Lugoj\": {\"Timisoara\": (111, 329), \"Mehadia\": (70, 241)},\n",
    "    \"Mehadia\": {\"Lugoj\": (70, 244), \"Drobeta\": (75, 242)},\n",
    "    \"Neamt\": {\"Iasi\": (87, 226)},\n",
    "    \"Oradea\": {\"Zerind\": (71, 374), \"Sibiu\": (151, 253)},\n",
    "    \"Pitesti\": {\"Bucharest\": (101, 0), \"Rimnicu\": (97, 193), \"Craiova\": (138, 160)},\n",
    "    \"Rimnicu\": {\"Craiova\": (146, 160), \"Sibiu\": (80, 253), \"Pitesti\": (97, 100)},\n",
    "    \"Sibiu\": {\"Arad\": (140, 366), \"Fagaras\": (99, 176), \"Oradea\": (151, 380), \"Rimnicu\": (80, 193)},\n",
    "    \"Timisoara\": {\"Arad\": (118, 366), \"Lugoj\": (111, 244)},\n",
    "    \"Vaslui\": {\"Iasi\": (92, 226), \"Urziceni\": (98, 80)},\n",
    "    \"Urziceni\": {\"Vaslui\": (142, 199), \"Bucharest\": (85, 0), \"Hirsova\": (98, 151)},\n",
    "    \"Zerind\": {\"Arad\": (75, 366), \"Oradea\": (71, 380)}\n",
    "}\n",
    "\n",
    "# Define the start and goal states\n",
    "start = \"Arad\"\n",
    "goal = \"Bucharest\"\n",
    "solution, totalCost = aStarSearch(start, goal, roadmap)\n",
    "\n",
    "print(\"\\n\")\n",
    "print(\"Solution Path: \", solution)\n",
    "print(\"Total Path Cost: \", totalCost)"
   ]
  }
 ],
 "metadata": {
  "colab": {
   "provenance": []
  },
  "kernelspec": {
   "display_name": "Python 3 (ipykernel)",
   "language": "python",
   "name": "python3"
  },
  "language_info": {
   "codemirror_mode": {
    "name": "ipython",
    "version": 3
   },
   "file_extension": ".py",
   "mimetype": "text/x-python",
   "name": "python",
   "nbconvert_exporter": "python",
   "pygments_lexer": "ipython3",
   "version": "3.9.13"
  }
 },
 "nbformat": 4,
 "nbformat_minor": 1
}
